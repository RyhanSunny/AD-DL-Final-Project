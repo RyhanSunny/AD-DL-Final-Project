{
 "cells": [
  {
   "cell_type": "code",
   "execution_count": 5,
   "id": "98cd7374-ce2f-4d81-b19b-edd6f26eb6bf",
   "metadata": {},
   "outputs": [],
   "source": [
    "import pandas as pd\n",
    "from transformers import pipeline\n"
   ]
  },
  {
   "cell_type": "code",
   "execution_count": 6,
   "id": "e41f4eb2-a512-4d94-8585-f9c5c7847cca",
   "metadata": {},
   "outputs": [],
   "source": [
    "# the model pipeline\n",
    "model = pipeline(\"sentiment-analysis\", model=\"noahnsimbe/DistilBERT-yelp-sentiment-analysis\")\n"
   ]
  },
  {
   "cell_type": "code",
   "execution_count": 7,
   "id": "4edb28c0-39a6-43a6-8e2e-a93025759b29",
   "metadata": {},
   "outputs": [],
   "source": [
    "\n",
    "\n",
    "# Load the businesses\n",
    "businesses_df = pd.read_json('./yelp_dataset/yelp_academic_dataset_business.json', lines=True)\n"
   ]
  },
  {
   "cell_type": "code",
   "execution_count": 8,
   "id": "40b0075e-c8af-4fbe-acbe-dc0288113d62",
   "metadata": {},
   "outputs": [],
   "source": [
    "def categorize_review(stars):\n",
    "    if stars in [1, 2]:\n",
    "        return 'Negative'\n",
    "    elif stars == 3:\n",
    "        return 'Neutral'\n",
    "    elif stars in [4, 5]:\n",
    "        return 'Positive'\n",
    "    else:\n",
    "        return 'Unknown'  # for any star ratings that are not 1, 2, 3, 4, or 5\n"
   ]
  },
  {
   "cell_type": "code",
   "execution_count": 9,
   "id": "6d762a63-d8cf-42ff-b5fa-020eddbe946e",
   "metadata": {},
   "outputs": [],
   "source": [
    "\n",
    "# Filters for restaurants and hotels, limiting to the first 100 of each for demonstration\n",
    "restaurants = businesses_df[businesses_df['categories'].str.contains('Restaurants', na=False)].head(1000)\n",
    "hotels = businesses_df[businesses_df['categories'].str.contains('Hotels', na=False)].head(1000)\n",
    "\n",
    "# Marks each business as either a Restaurant or Hotel\n",
    "restaurants['business_type'] = 'Restaurant'\n",
    "hotels['business_type'] = 'Hotel'\n",
    "\n",
    "# Combines and retrieves the IDs, names, and types\n",
    "selected_businesses = pd.concat([restaurants, hotels])"
   ]
  },
  {
   "cell_type": "code",
   "execution_count": 10,
   "id": "3ad8e2d1-e3bb-4c08-97f1-acd08aebaba1",
   "metadata": {},
   "outputs": [],
   "source": [
    "\n",
    "selected_businesses = selected_businesses.drop_duplicates(subset=['business_id'])\n",
    "\n",
    "\n",
    "business_info = selected_businesses.set_index('business_id')[['name', 'business_type']].to_dict('index')\n"
   ]
  },
  {
   "cell_type": "code",
   "execution_count": 11,
   "id": "0580f53a-e649-4434-a684-4d9dff9a001d",
   "metadata": {},
   "outputs": [],
   "source": [
    "selected_reviews = pd.DataFrame()\n",
    "\n",
    "# Ensure you have the correct variable for filtered business IDs if needed\n",
    "filtered_business_ids = selected_businesses['business_id'].tolist()\n",
    "\n",
    "# Process the review dataset in chunks and filter for selected businesses\n",
    "for chunk in pd.read_json('./yelp_dataset/yelp_academic_dataset_review.json', lines=True, chunksize=5000):\n",
    "    # Filter for reviews related to selected businesses\n",
    "    filtered_chunk = chunk[chunk['business_id'].isin(filtered_business_ids)].copy()\n",
    "    # Add the business name and type to each review using the business_info dictionary\n",
    "    filtered_chunk['business_name'] = filtered_chunk['business_id'].apply(lambda x: business_info[x]['name'])\n",
    "    filtered_chunk['business_type'] = filtered_chunk['business_id'].apply(lambda x: business_info[x]['business_type'])\n",
    "    # Categorize the reviews based on star ratings\n",
    "    filtered_chunk['sentiment'] = filtered_chunk['stars'].apply(categorize_review)\n",
    "    # Concatenate the chunk to the selected_reviews DataFrame\n",
    "    selected_reviews = pd.concat([selected_reviews, filtered_chunk], ignore_index=True)\n"
   ]
  },
  {
   "cell_type": "code",
   "execution_count": 12,
   "id": "e7f340fe-3bb6-4b99-b9f3-6725037c3a85",
   "metadata": {},
   "outputs": [],
   "source": [
    "# Selecting the specified columns for the final DataFrame\n",
    "final_reviews_selected = selected_reviews[['business_id','business_name','business_type','text', 'stars', 'sentiment']]\n",
    "\n"
   ]
  },
  {
   "cell_type": "code",
   "execution_count": 13,
   "id": "92aedbed-cdcc-48e4-8631-14bcd350311c",
   "metadata": {},
   "outputs": [
    {
     "name": "stdout",
     "output_type": "stream",
     "text": [
      "              business_id                 business_name business_type  \\\n",
      "0  XQfwVwDr-v0ZS3_CbbE5Xw  Turning Point of North Wales    Restaurant   \n",
      "1  04UD14gamNjLY0IDYVhHJg                      Dmitri's    Restaurant   \n",
      "2  gmjsEdUsKpj9Xxu6pdjH0g    The Voodoo Bone Lady Tours         Hotel   \n",
      "3  lj-E32x9_FA7GmUrBGBEWg           Brio Italian Grille    Restaurant   \n",
      "4  0pMj5xUAecW9o1P35B0AMw                          Wawa    Restaurant   \n",
      "\n",
      "                                                text  stars sentiment  \n",
      "0  If you decide to eat here, just be aware it is...      3   Neutral  \n",
      "1  I am a long term frequent customer of this est...      1  Negative  \n",
      "2  Loved this tour! I grabbed a groupon and the p...      5  Positive  \n",
      "3  Love going here for happy hour or dinner!  Gre...      4  Positive  \n",
      "4  Great staff always helps and always nice. Alwa...      5  Positive  \n"
     ]
    }
   ],
   "source": [
    "print(final_reviews_selected.head())"
   ]
  },
  {
   "cell_type": "code",
   "execution_count": 14,
   "id": "41052dbf-77b3-402e-a17a-d64f81e73dcb",
   "metadata": {},
   "outputs": [],
   "source": [
    "# Save the selected columns to a CSV file\n",
    "final_reviews_selected.to_csv('final_reviews_selected.csv', index=False)\n"
   ]
  },
  {
   "cell_type": "code",
   "execution_count": 41,
   "id": "c206bd3a-df5d-494d-aa27-cac20a280ee7",
   "metadata": {},
   "outputs": [
    {
     "name": "stderr",
     "output_type": "stream",
     "text": [
      "[nltk_data] Downloading package stopwords to\n",
      "[nltk_data]     /Users/matthewkolawole/nltk_data...\n",
      "[nltk_data]   Package stopwords is already up-to-date!\n",
      "[nltk_data] Downloading package wordnet to\n",
      "[nltk_data]     /Users/matthewkolawole/nltk_data...\n",
      "[nltk_data]   Package wordnet is already up-to-date!\n"
     ]
    }
   ],
   "source": [
    "import numpy as np\n",
    "import re\n",
    "import nltk\n",
    "from nltk.corpus import stopwords\n",
    "from nltk.stem import WordNetLemmatizer\n",
    "\n",
    "# Download NLTK data (only needs to be done once)\n",
    "nltk.download('stopwords')\n",
    "nltk.download('wordnet')\n",
    "\n",
    "# Set stopwords\n",
    "stop_words = set(stopwords.words('english'))\n",
    "lemmatizer = WordNetLemmatizer()\n"
   ]
  },
  {
   "cell_type": "code",
   "execution_count": 42,
   "id": "217dc7ad-1607-4441-b250-7fa3f3795ffa",
   "metadata": {},
   "outputs": [],
   "source": [
    "df = pd.read_csv('final_reviews_selected.csv')\n"
   ]
  },
  {
   "cell_type": "code",
   "execution_count": 43,
   "id": "0396cf8f-84b3-4c40-a04d-86b6dec9e9db",
   "metadata": {},
   "outputs": [],
   "source": [
    "def clean_text(text):\n",
    "    text = text.lower()\n",
    "    text = re.sub(r'https?:\\/\\/\\S+', '', text)\n",
    "    text = re.sub(r'@\\w+', '', text)\n",
    "    text = re.sub(r'#\\w+', '', text)\n",
    "    text = re.sub(r'[\\W_]+', ' ', text)\n",
    "    words = [word for word in text.split() if word not in stop_words]\n",
    "    return ' '.join([lemmatizer.lemmatize(word) for word in words])\n",
    "df['text'] = df['text'].apply(clean_text)\n"
   ]
  },
  {
   "cell_type": "code",
   "execution_count": 44,
   "id": "ce193e51-8528-4483-975c-967a7a527235",
   "metadata": {},
   "outputs": [
    {
     "name": "stdout",
     "output_type": "stream",
     "text": [
      "count    154313.000000\n",
      "mean         56.893392\n",
      "std          52.061750\n",
      "min           0.000000\n",
      "25%          23.000000\n",
      "50%          41.000000\n",
      "75%          72.000000\n",
      "max         531.000000\n",
      "Name: text, dtype: float64\n"
     ]
    }
   ],
   "source": [
    "sequence_lengths = df['text'].apply(lambda x: len(x.split()))\n",
    "print(sequence_lengths.describe())\n"
   ]
  },
  {
   "cell_type": "code",
   "execution_count": 45,
   "id": "3ad81f6d-1ba0-4e7f-9f60-df2115be6237",
   "metadata": {},
   "outputs": [
    {
     "name": "stdout",
     "output_type": "stream",
     "text": [
      "business_id      0\n",
      "business_name    0\n",
      "business_type    0\n",
      "text             0\n",
      "stars            0\n",
      "sentiment        0\n",
      "dtype: int64\n"
     ]
    }
   ],
   "source": [
    "missing_values = df.isnull().sum()\n",
    "print(missing_values)\n"
   ]
  },
  {
   "cell_type": "code",
   "execution_count": 46,
   "id": "fdb2bc1e-ec22-4127-ad80-80f4e712eb40",
   "metadata": {},
   "outputs": [
    {
     "name": "stdout",
     "output_type": "stream",
     "text": [
      "Positive    101121\n",
      "Negative     36346\n",
      "Neutral      16846\n",
      "Name: sentiment, dtype: int64\n"
     ]
    }
   ],
   "source": [
    "print(df['sentiment'].value_counts())\n"
   ]
  },
  {
   "cell_type": "code",
   "execution_count": 47,
   "id": "b6b8ab54-3423-4151-b8d2-d382e82ee4ac",
   "metadata": {},
   "outputs": [],
   "source": [
    "# Converts sentiment to numerical\n",
    "df['sentiment'] = df['sentiment'].map({'Positive': 2, 'Neutral': 1, 'Negative': 0})\n"
   ]
  },
  {
   "cell_type": "code",
   "execution_count": 48,
   "id": "8cca96dc-427a-4029-af84-adac0dd93acd",
   "metadata": {},
   "outputs": [],
   "source": [
    "#addressing imbalance classes\n",
    "from sklearn.utils import class_weight\n",
    "# Calculate class weights\n",
    "class_weights = class_weight.compute_class_weight(\n",
    "    'balanced',\n",
    "    classes=np.unique(df['sentiment']),\n",
    "    y=df['sentiment']\n",
    ")\n",
    "class_weight_dict = dict(enumerate(class_weights))\n",
    "\n",
    "# to be used when trainning \n",
    "np.save('class_weight_dict.npy', class_weight_dict)"
   ]
  },
  {
   "cell_type": "code",
   "execution_count": 49,
   "id": "6c883ec8-177d-4789-b13f-ca876b4f9a20",
   "metadata": {},
   "outputs": [
    {
     "name": "stdout",
     "output_type": "stream",
     "text": [
      "              business_id                 business_name business_type  \\\n",
      "0  XQfwVwDr-v0ZS3_CbbE5Xw  Turning Point of North Wales    Restaurant   \n",
      "1  04UD14gamNjLY0IDYVhHJg                      Dmitri's    Restaurant   \n",
      "2  gmjsEdUsKpj9Xxu6pdjH0g    The Voodoo Bone Lady Tours         Hotel   \n",
      "3  lj-E32x9_FA7GmUrBGBEWg           Brio Italian Grille    Restaurant   \n",
      "4  0pMj5xUAecW9o1P35B0AMw                          Wawa    Restaurant   \n",
      "\n",
      "                                                text  stars  sentiment  \n",
      "0  decide eat aware going take 2 hour beginning e...      3          1  \n",
      "1  long term frequent customer establishment went...      1          0  \n",
      "2  loved tour grabbed groupon price great perfect...      5          2  \n",
      "3  love going happy hour dinner great patio fan b...      4          2  \n",
      "4  great staff always help always nice always cle...      5          2  \n"
     ]
    }
   ],
   "source": [
    "print(df.head())"
   ]
  },
  {
   "cell_type": "code",
   "execution_count": 50,
   "id": "031077a6-2b61-4c03-8e58-b31351cc7ed1",
   "metadata": {},
   "outputs": [],
   "source": [
    "df.to_csv('processed_reviews.csv', index=False)"
   ]
  },
  {
   "cell_type": "code",
   "execution_count": null,
   "id": "3464acd0-829a-4192-a1ad-08a1fb729390",
   "metadata": {},
   "outputs": [],
   "source": []
  }
 ],
 "metadata": {
  "kernelspec": {
   "display_name": "Python 3 (ipykernel)",
   "language": "python",
   "name": "python3"
  },
  "language_info": {
   "codemirror_mode": {
    "name": "ipython",
    "version": 3
   },
   "file_extension": ".py",
   "mimetype": "text/x-python",
   "name": "python",
   "nbconvert_exporter": "python",
   "pygments_lexer": "ipython3",
   "version": "3.10.9"
  }
 },
 "nbformat": 4,
 "nbformat_minor": 5
}
